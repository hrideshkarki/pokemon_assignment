{
 "cells": [
  {
   "cell_type": "markdown",
   "id": "7196054f",
   "metadata": {},
   "source": [
    "# Working with APIs"
   ]
  },
  {
   "cell_type": "markdown",
   "id": "0547b71e",
   "metadata": {},
   "source": [
    "API stands for Application programming interface<br>\n",
    "APIs are a way for applications to talk to eachother<br>\n",
    "In python we use the requests package to handle the connection<br>\n",
    "<small><strong>Note: It is requests with an s not request(this is a different package)</strong></small><br>\n",
    "Most API's communicate with data in the form of JSON<br>\n",
    "JSON stands for JavaScript Object Notation"
   ]
  },
  {
   "cell_type": "code",
   "execution_count": 2,
   "id": "4db9d154",
   "metadata": {},
   "outputs": [],
   "source": [
    "#import the packages we need:\n",
    "\n",
    "\n",
    "import requests as r"
   ]
  },
  {
   "cell_type": "markdown",
   "id": "e8c2ce51",
   "metadata": {},
   "source": [
    "We will be connecting to the Ergast F1 Racer API today:\n",
    "http://ergast.com/mrd/\n",
    "\n",
    "to view JSON data nicely in the Chrome browser install the extension JSONview"
   ]
  },
  {
   "cell_type": "code",
   "execution_count": 6,
   "id": "52c440c6",
   "metadata": {},
   "outputs": [
    {
     "name": "stdout",
     "output_type": "stream",
     "text": [
      "<Response [200]>\n",
      "<class 'requests.models.Response'>\n"
     ]
    }
   ],
   "source": [
    "\n",
    "# we can also add information with post or put\n",
    "# 200 line is a success line\n",
    "# 300 line is a ridirection line\n",
    "# 400 line is error request\n",
    "# 500 line is server problem\n",
    "\n",
    "res = r.get('https://ergast.com/api/f1/2022/5/driverStandings.json')\n",
    "print(res)\n",
    "print(type(res))\n",
    "\n",
    "\n",
    "    "
   ]
  },
  {
   "cell_type": "code",
   "execution_count": null,
   "id": "66118ca8-34f8-4e64-9b73-79a2dc95ac1b",
   "metadata": {},
   "outputs": [],
   "source": []
  },
  {
   "cell_type": "code",
   "execution_count": 7,
   "id": "f60c1b4a",
   "metadata": {},
   "outputs": [
    {
     "data": {
      "text/plain": [
       "200"
      ]
     },
     "execution_count": 7,
     "metadata": {},
     "output_type": "execute_result"
    }
   ],
   "source": [
    "res.status_code"
   ]
  },
  {
   "cell_type": "code",
   "execution_count": 8,
   "id": "7b63a204",
   "metadata": {},
   "outputs": [
    {
     "data": {
      "text/plain": [
       "True"
      ]
     },
     "execution_count": 8,
     "metadata": {},
     "output_type": "execute_result"
    }
   ],
   "source": [
    "#response object\n",
    "res.ok"
   ]
  },
  {
   "cell_type": "code",
   "execution_count": 11,
   "id": "c6d1fdaf",
   "metadata": {},
   "outputs": [
    {
     "name": "stdout",
     "output_type": "stream",
     "text": [
      "{'MRData': {'xmlns': 'http://ergast.com/mrd/1.5', 'series': 'f1', 'url': 'http://ergast.com/api/f1/2022/5/driverstandings.json', 'limit': '30', 'offset': '0', 'total': '21', 'StandingsTable': {'season': '2022', 'round': '5', 'StandingsLists': [{'season': '2022', 'round': '5', 'DriverStandings': [{'position': '1', 'positionText': '1', 'points': '104', 'wins': '2', 'Driver': {'driverId': 'leclerc', 'permanentNumber': '16', 'code': 'LEC', 'url': 'http://en.wikipedia.org/wiki/Charles_Leclerc', 'givenName': 'Charles', 'familyName': 'Leclerc', 'dateOfBirth': '1997-10-16', 'nationality': 'Monegasque'}, 'Constructors': [{'constructorId': 'ferrari', 'url': 'http://en.wikipedia.org/wiki/Scuderia_Ferrari', 'name': 'Ferrari', 'nationality': 'Italian'}]}, {'position': '2', 'positionText': '2', 'points': '85', 'wins': '3', 'Driver': {'driverId': 'max_verstappen', 'permanentNumber': '33', 'code': 'VER', 'url': 'http://en.wikipedia.org/wiki/Max_Verstappen', 'givenName': 'Max', 'familyName': 'Verstappen', 'dateOfBirth': '1997-09-30', 'nationality': 'Dutch'}, 'Constructors': [{'constructorId': 'red_bull', 'url': 'http://en.wikipedia.org/wiki/Red_Bull_Racing', 'name': 'Red Bull', 'nationality': 'Austrian'}]}, {'position': '3', 'positionText': '3', 'points': '66', 'wins': '0', 'Driver': {'driverId': 'perez', 'permanentNumber': '11', 'code': 'PER', 'url': 'http://en.wikipedia.org/wiki/Sergio_P%C3%A9rez', 'givenName': 'Sergio', 'familyName': 'Pérez', 'dateOfBirth': '1990-01-26', 'nationality': 'Mexican'}, 'Constructors': [{'constructorId': 'red_bull', 'url': 'http://en.wikipedia.org/wiki/Red_Bull_Racing', 'name': 'Red Bull', 'nationality': 'Austrian'}]}, {'position': '4', 'positionText': '4', 'points': '59', 'wins': '0', 'Driver': {'driverId': 'russell', 'permanentNumber': '63', 'code': 'RUS', 'url': 'http://en.wikipedia.org/wiki/George_Russell_%28racing_driver%29', 'givenName': 'George', 'familyName': 'Russell', 'dateOfBirth': '1998-02-15', 'nationality': 'British'}, 'Constructors': [{'constructorId': 'mercedes', 'url': 'http://en.wikipedia.org/wiki/Mercedes-Benz_in_Formula_One', 'name': 'Mercedes', 'nationality': 'German'}]}, {'position': '5', 'positionText': '5', 'points': '53', 'wins': '0', 'Driver': {'driverId': 'sainz', 'permanentNumber': '55', 'code': 'SAI', 'url': 'http://en.wikipedia.org/wiki/Carlos_Sainz_Jr.', 'givenName': 'Carlos', 'familyName': 'Sainz', 'dateOfBirth': '1994-09-01', 'nationality': 'Spanish'}, 'Constructors': [{'constructorId': 'ferrari', 'url': 'http://en.wikipedia.org/wiki/Scuderia_Ferrari', 'name': 'Ferrari', 'nationality': 'Italian'}]}, {'position': '6', 'positionText': '6', 'points': '36', 'wins': '0', 'Driver': {'driverId': 'hamilton', 'permanentNumber': '44', 'code': 'HAM', 'url': 'http://en.wikipedia.org/wiki/Lewis_Hamilton', 'givenName': 'Lewis', 'familyName': 'Hamilton', 'dateOfBirth': '1985-01-07', 'nationality': 'British'}, 'Constructors': [{'constructorId': 'mercedes', 'url': 'http://en.wikipedia.org/wiki/Mercedes-Benz_in_Formula_One', 'name': 'Mercedes', 'nationality': 'German'}]}, {'position': '7', 'positionText': '7', 'points': '35', 'wins': '0', 'Driver': {'driverId': 'norris', 'permanentNumber': '4', 'code': 'NOR', 'url': 'http://en.wikipedia.org/wiki/Lando_Norris', 'givenName': 'Lando', 'familyName': 'Norris', 'dateOfBirth': '1999-11-13', 'nationality': 'British'}, 'Constructors': [{'constructorId': 'mclaren', 'url': 'http://en.wikipedia.org/wiki/McLaren', 'name': 'McLaren', 'nationality': 'British'}]}, {'position': '8', 'positionText': '8', 'points': '30', 'wins': '0', 'Driver': {'driverId': 'bottas', 'permanentNumber': '77', 'code': 'BOT', 'url': 'http://en.wikipedia.org/wiki/Valtteri_Bottas', 'givenName': 'Valtteri', 'familyName': 'Bottas', 'dateOfBirth': '1989-08-28', 'nationality': 'Finnish'}, 'Constructors': [{'constructorId': 'alfa', 'url': 'http://en.wikipedia.org/wiki/Alfa_Romeo_in_Formula_One', 'name': 'Alfa Romeo', 'nationality': 'Swiss'}]}, {'position': '9', 'positionText': '9', 'points': '24', 'wins': '0', 'Driver': {'driverId': 'ocon', 'permanentNumber': '31', 'code': 'OCO', 'url': 'http://en.wikipedia.org/wiki/Esteban_Ocon', 'givenName': 'Esteban', 'familyName': 'Ocon', 'dateOfBirth': '1996-09-17', 'nationality': 'French'}, 'Constructors': [{'constructorId': 'alpine', 'url': 'http://en.wikipedia.org/wiki/Alpine_F1_Team', 'name': 'Alpine F1 Team', 'nationality': 'French'}]}, {'position': '10', 'positionText': '10', 'points': '15', 'wins': '0', 'Driver': {'driverId': 'kevin_magnussen', 'permanentNumber': '20', 'code': 'MAG', 'url': 'http://en.wikipedia.org/wiki/Kevin_Magnussen', 'givenName': 'Kevin', 'familyName': 'Magnussen', 'dateOfBirth': '1992-10-05', 'nationality': 'Danish'}, 'Constructors': [{'constructorId': 'haas', 'url': 'http://en.wikipedia.org/wiki/Haas_F1_Team', 'name': 'Haas F1 Team', 'nationality': 'American'}]}, {'position': '11', 'positionText': '11', 'points': '11', 'wins': '0', 'Driver': {'driverId': 'ricciardo', 'permanentNumber': '3', 'code': 'RIC', 'url': 'http://en.wikipedia.org/wiki/Daniel_Ricciardo', 'givenName': 'Daniel', 'familyName': 'Ricciardo', 'dateOfBirth': '1989-07-01', 'nationality': 'Australian'}, 'Constructors': [{'constructorId': 'mclaren', 'url': 'http://en.wikipedia.org/wiki/McLaren', 'name': 'McLaren', 'nationality': 'British'}]}, {'position': '12', 'positionText': '12', 'points': '10', 'wins': '0', 'Driver': {'driverId': 'tsunoda', 'permanentNumber': '22', 'code': 'TSU', 'url': 'http://en.wikipedia.org/wiki/Yuki_Tsunoda', 'givenName': 'Yuki', 'familyName': 'Tsunoda', 'dateOfBirth': '2000-05-11', 'nationality': 'Japanese'}, 'Constructors': [{'constructorId': 'alphatauri', 'url': 'http://en.wikipedia.org/wiki/Scuderia_AlphaTauri', 'name': 'AlphaTauri', 'nationality': 'Italian'}]}, {'position': '13', 'positionText': '13', 'points': '6', 'wins': '0', 'Driver': {'driverId': 'gasly', 'permanentNumber': '10', 'code': 'GAS', 'url': 'http://en.wikipedia.org/wiki/Pierre_Gasly', 'givenName': 'Pierre', 'familyName': 'Gasly', 'dateOfBirth': '1996-02-07', 'nationality': 'French'}, 'Constructors': [{'constructorId': 'alphatauri', 'url': 'http://en.wikipedia.org/wiki/Scuderia_AlphaTauri', 'name': 'AlphaTauri', 'nationality': 'Italian'}]}, {'position': '14', 'positionText': '14', 'points': '4', 'wins': '0', 'Driver': {'driverId': 'vettel', 'permanentNumber': '5', 'code': 'VET', 'url': 'http://en.wikipedia.org/wiki/Sebastian_Vettel', 'givenName': 'Sebastian', 'familyName': 'Vettel', 'dateOfBirth': '1987-07-03', 'nationality': 'German'}, 'Constructors': [{'constructorId': 'aston_martin', 'url': 'http://en.wikipedia.org/wiki/Aston_Martin_in_Formula_One', 'name': 'Aston Martin', 'nationality': 'British'}]}, {'position': '15', 'positionText': '15', 'points': '3', 'wins': '0', 'Driver': {'driverId': 'albon', 'permanentNumber': '23', 'code': 'ALB', 'url': 'http://en.wikipedia.org/wiki/Alexander_Albon', 'givenName': 'Alexander', 'familyName': 'Albon', 'dateOfBirth': '1996-03-23', 'nationality': 'Thai'}, 'Constructors': [{'constructorId': 'williams', 'url': 'http://en.wikipedia.org/wiki/Williams_Grand_Prix_Engineering', 'name': 'Williams', 'nationality': 'British'}]}, {'position': '16', 'positionText': '16', 'points': '2', 'wins': '0', 'Driver': {'driverId': 'alonso', 'permanentNumber': '14', 'code': 'ALO', 'url': 'http://en.wikipedia.org/wiki/Fernando_Alonso', 'givenName': 'Fernando', 'familyName': 'Alonso', 'dateOfBirth': '1981-07-29', 'nationality': 'Spanish'}, 'Constructors': [{'constructorId': 'alpine', 'url': 'http://en.wikipedia.org/wiki/Alpine_F1_Team', 'name': 'Alpine F1 Team', 'nationality': 'French'}]}, {'position': '17', 'positionText': '17', 'points': '2', 'wins': '0', 'Driver': {'driverId': 'stroll', 'permanentNumber': '18', 'code': 'STR', 'url': 'http://en.wikipedia.org/wiki/Lance_Stroll', 'givenName': 'Lance', 'familyName': 'Stroll', 'dateOfBirth': '1998-10-29', 'nationality': 'Canadian'}, 'Constructors': [{'constructorId': 'aston_martin', 'url': 'http://en.wikipedia.org/wiki/Aston_Martin_in_Formula_One', 'name': 'Aston Martin', 'nationality': 'British'}]}, {'position': '18', 'positionText': '18', 'points': '1', 'wins': '0', 'Driver': {'driverId': 'zhou', 'permanentNumber': '24', 'code': 'ZHO', 'url': 'http://en.wikipedia.org/wiki/Guanyu_Zhou', 'givenName': 'Guanyu', 'familyName': 'Zhou', 'dateOfBirth': '1999-05-30', 'nationality': 'Chinese'}, 'Constructors': [{'constructorId': 'alfa', 'url': 'http://en.wikipedia.org/wiki/Alfa_Romeo_in_Formula_One', 'name': 'Alfa Romeo', 'nationality': 'Swiss'}]}, {'position': '19', 'positionText': '19', 'points': '0', 'wins': '0', 'Driver': {'driverId': 'mick_schumacher', 'permanentNumber': '47', 'code': 'MSC', 'url': 'http://en.wikipedia.org/wiki/Mick_Schumacher', 'givenName': 'Mick', 'familyName': 'Schumacher', 'dateOfBirth': '1999-03-22', 'nationality': 'German'}, 'Constructors': [{'constructorId': 'haas', 'url': 'http://en.wikipedia.org/wiki/Haas_F1_Team', 'name': 'Haas F1 Team', 'nationality': 'American'}]}, {'position': '20', 'positionText': '20', 'points': '0', 'wins': '0', 'Driver': {'driverId': 'hulkenberg', 'permanentNumber': '27', 'code': 'HUL', 'url': 'http://en.wikipedia.org/wiki/Nico_H%C3%BClkenberg', 'givenName': 'Nico', 'familyName': 'Hülkenberg', 'dateOfBirth': '1987-08-19', 'nationality': 'German'}, 'Constructors': [{'constructorId': 'aston_martin', 'url': 'http://en.wikipedia.org/wiki/Aston_Martin_in_Formula_One', 'name': 'Aston Martin', 'nationality': 'British'}]}, {'position': '21', 'positionText': '21', 'points': '0', 'wins': '0', 'Driver': {'driverId': 'latifi', 'permanentNumber': '6', 'code': 'LAT', 'url': 'http://en.wikipedia.org/wiki/Nicholas_Latifi', 'givenName': 'Nicholas', 'familyName': 'Latifi', 'dateOfBirth': '1995-06-29', 'nationality': 'Canadian'}, 'Constructors': [{'constructorId': 'williams', 'url': 'http://en.wikipedia.org/wiki/Williams_Grand_Prix_Engineering', 'name': 'Williams', 'nationality': 'British'}]}]}]}}}\n",
      "<class 'dict'>\n"
     ]
    }
   ],
   "source": [
    "#check and make sure we got a successful response from the API\n",
    "if res.ok:\n",
    "    data = res.json()\n",
    "    print(data)\n",
    "    print(type(data))"
   ]
  },
  {
   "cell_type": "code",
   "execution_count": 14,
   "id": "ed4d3256",
   "metadata": {},
   "outputs": [
    {
     "name": "stdout",
     "output_type": "stream",
     "text": [
      "Charles Leclerc drive for Ferrari\n",
      "Max Verstappen drive for Red Bull\n",
      "Sergio Pérez drive for Red Bull\n",
      "George Russell drive for Mercedes\n",
      "Carlos Sainz drive for Ferrari\n",
      "Lewis Hamilton drive for Mercedes\n",
      "Lando Norris drive for McLaren\n",
      "Valtteri Bottas drive for Alfa Romeo\n",
      "Esteban Ocon drive for Alpine F1 Team\n",
      "Kevin Magnussen drive for Haas F1 Team\n",
      "Daniel Ricciardo drive for McLaren\n",
      "Yuki Tsunoda drive for AlphaTauri\n",
      "Pierre Gasly drive for AlphaTauri\n",
      "Sebastian Vettel drive for Aston Martin\n",
      "Alexander Albon drive for Williams\n",
      "Fernando Alonso drive for Alpine F1 Team\n",
      "Lance Stroll drive for Aston Martin\n",
      "Guanyu Zhou drive for Alfa Romeo\n",
      "Mick Schumacher drive for Haas F1 Team\n",
      "Nico Hülkenberg drive for Aston Martin\n",
      "Nicholas Latifi drive for Williams\n"
     ]
    }
   ],
   "source": [
    "#view the response as a JSON\n",
    "standings = data['MRData']['StandingsTable']['StandingsLists'][0]['DriverStandings']\n",
    "for entry in standings:\n",
    "    string = f\"{entry['Driver']['givenName']} {entry['Driver']['familyName']} drive for {entry['Constructors'][0]['name']}\"\n",
    "    print(string)"
   ]
  },
  {
   "cell_type": "code",
   "execution_count": 24,
   "id": "92e6cd2c",
   "metadata": {},
   "outputs": [
    {
     "name": "stdout",
     "output_type": "stream",
     "text": [
      "What year do you want to look up? 1999\n",
      "What round do you want to look up? 1\n"
     ]
    },
    {
     "name": "stdout",
     "output_type": "stream",
     "text": [
      "This is ths info for the 1999 year round 1!\n",
      "Eddie Irvine drive for Ferrari\n",
      "Heinz-Harald Frentzen drive for Jordan\n",
      "Ralf Schumacher drive for Williams\n",
      "Giancarlo Fisichella drive for Benetton\n",
      "Rubens Barrichello drive for Stewart\n",
      "Pedro de la Rosa drive for Arrows\n",
      "Toranosuke Takagi drive for Arrows\n",
      "Michael Schumacher drive for Ferrari\n"
     ]
    }
   ],
   "source": [
    "my_year = input('What year do you want to look up?')\n",
    "my_round = input('What round do you want to look up?')\n",
    "res = r.get(f'https://ergast.com/api/f1/{my_year}/{my_round}/driverStandings.json')\n",
    "if res.ok:\n",
    "    print(f'This is ths info for the {my_year} year round {my_round}!')\n",
    "    data = res.json()\n",
    "    standings = data['MRData']['StandingsTable']['StandingsLists'][0]['DriverStandings']\n",
    "    for entry in standings:\n",
    "        string = f\"{entry['Driver']['givenName']} {entry['Driver']['familyName']} drive for {entry['Constructors'][0]['name']}\"\n",
    "        print(string)\n",
    "else: \n",
    "    print('Invalid year/round combination')"
   ]
  },
  {
   "cell_type": "code",
   "execution_count": 43,
   "id": "00a6cc5f-88b8-46a3-80eb-e8e47045c84b",
   "metadata": {},
   "outputs": [
    {
     "name": "stdout",
     "output_type": "stream",
     "text": [
      "<Response [200]>\n",
      "Eddie\n",
      "Heinz-Harald\n",
      "Ralf\n",
      "Giancarlo\n",
      "Rubens\n",
      "Pedro\n",
      "Toranosuke\n",
      "Michael\n"
     ]
    }
   ],
   "source": [
    "import requests as r \n",
    "res = r.get('https://ergast.com/api/f1/2022/5/driverStandings.json')\n",
    "print(res)\n",
    "res.status_code\n",
    "if res.ok:\n",
    "    data = res.json()\n",
    "    stading = data['MRData']['StandingsTable']['StandingsLists'][0]['DriverStandings']\n",
    "    for entry in standings:\n",
    "        string = f\"{entry['Driver']['givenName']}\"\n",
    "        \n",
    "        print(string)\n",
    "else: \n",
    "    print('Invalid year/round combination')\n",
    "\n"
   ]
  },
  {
   "cell_type": "code",
   "execution_count": 27,
   "id": "f074dfcf",
   "metadata": {},
   "outputs": [
    {
     "data": {
      "text/plain": [
       "{'Valtteri Bottas': {'position': '1', 'team': 'Mercedes'},\n",
       " 'Charles Leclerc': {'position': '2', 'team': 'Ferrari'},\n",
       " 'Lando Norris': {'position': '3', 'team': 'McLaren'},\n",
       " 'Lewis Hamilton': {'position': '4', 'team': 'Mercedes'},\n",
       " 'Carlos Sainz': {'position': '5', 'team': 'McLaren'},\n",
       " 'Sergio Pérez': {'position': '6', 'team': 'Racing Point'},\n",
       " 'Pierre Gasly': {'position': '7', 'team': 'AlphaTauri'},\n",
       " 'Esteban Ocon': {'position': '8', 'team': 'Renault'},\n",
       " 'Antonio Giovinazzi': {'position': '9', 'team': 'Alfa Romeo'},\n",
       " 'Sebastian Vettel': {'position': '10', 'team': 'Ferrari'},\n",
       " 'Nicholas Latifi': {'position': '11', 'team': 'Williams'},\n",
       " 'Daniil Kvyat': {'position': '12', 'team': 'AlphaTauri'},\n",
       " 'Alexander Albon': {'position': '13', 'team': 'Red Bull'},\n",
       " 'Kimi Räikkönen': {'position': '14', 'team': 'Alfa Romeo'},\n",
       " 'George Russell': {'position': '15', 'team': 'Williams'},\n",
       " 'Romain Grosjean': {'position': '16', 'team': 'Haas F1 Team'},\n",
       " 'Kevin Magnussen': {'position': '17', 'team': 'Haas F1 Team'},\n",
       " 'Lance Stroll': {'position': '18', 'team': 'Racing Point'},\n",
       " 'Daniel Ricciardo': {'position': '19', 'team': 'Renault'},\n",
       " 'Max Verstappen': {'position': '20', 'team': 'Red Bull'}}"
      ]
     },
     "execution_count": 27,
     "metadata": {},
     "output_type": "execute_result"
    }
   ],
   "source": [
    "# We only want the Driver Standings\n",
    "def getRacerInfo(my_year, my_round):\n",
    "    res = r.get(f'https://ergast.com/api/f1/{my_year}/{my_round}/driverStandings.json')\n",
    "    if res.ok:\n",
    "        data = res.json()\n",
    "        standings = data['MRData']['StandingsTable']['StandingsLists'][0]['DriverStandings']\n",
    "        output = {}\n",
    "        for entry in standings:\n",
    "            full_name = f\"{entry['Driver']['givenName']} {entry['Driver']['familyName']}\"\n",
    "            output[full_name] = {\n",
    "                'position': entry['position'],\n",
    "                'team': entry['Constructors'][0]['name']\n",
    "            }\n",
    "        return output\n",
    "             \n",
    "            \n",
    "    else:\n",
    "        return 'Invalid year/round combination'\n",
    "    \n",
    "getRacerInfo(2020, 1)"
   ]
  },
  {
   "cell_type": "code",
   "execution_count": null,
   "id": "be46a950",
   "metadata": {},
   "outputs": [],
   "source": []
  },
  {
   "cell_type": "code",
   "execution_count": null,
   "id": "3740c752",
   "metadata": {},
   "outputs": [],
   "source": []
  },
  {
   "cell_type": "markdown",
   "id": "6d546014",
   "metadata": {},
   "source": [
    "# <strong>Homework</strong>\n",
    "check out this Pokemon API https://pokeapi.co/\n",
    "Use the requests package to connect to this API and get and store data for 5 different pokemon.\n",
    "Get the pokemons: name, atleast one ability's name, base_experience, and the URL for its sprite (an image that shows up on screen) for the 'front_shiny', attack base_state, hp base_stat, defense base_stat"
   ]
  },
  {
   "cell_type": "code",
   "execution_count": 81,
   "id": "5a9081e3",
   "metadata": {},
   "outputs": [
    {
     "name": "stdout",
     "output_type": "stream",
     "text": [
      "Enter your lucky number to see your lucky pokemon at the end of list: 44\n"
     ]
    },
    {
     "data": {
      "image/png": "[encoded data removed]",
      "text/plain": [
       "<PIL.PngImagePlugin.PngImageFile image mode=P size=96x96>"
      ]
     },
     "metadata": {},
     "output_type": "display_data"
    },
    {
     "name": "stdout",
     "output_type": "stream",
     "text": [
      "Name:\t\t\tpikachu\n",
      "Ability:\t\tstatic\n",
      "Base experience:\t 112\n",
      "Attack:\t\t\t 55\n",
      "Defense:\t\t 40\n",
      "Hp\t\t\t+35\n",
      "\n",
      "\n"
     ]
    },
    {
     "data": {
      "image/png": "[encoded data removed]",
      "text/plain": [
       "<PIL.PngImagePlugin.PngImageFile image mode=P size=96x96>"
      ]
     },
     "metadata": {},
     "output_type": "display_data"
    },
    {
     "name": "stdout",
     "output_type": "stream",
     "text": [
      "Name:\t\t\tivysaur\n",
      "Ability:\t\tovergrow\n",
      "Base experience:\t 142\n",
      "Attack:\t\t\t 62\n",
      "Defense:\t\t 63\n",
      "Hp\t\t\t+60\n",
      "\n",
      "\n"
     ]
    },
    {
     "data": {
      "image/png": "[encoded data removed]",
      "text/plain": [
       "<PIL.PngImagePlugin.PngImageFile image mode=P size=96x96>"
      ]
     },
     "metadata": {},
     "output_type": "display_data"
    },
    {
     "name": "stdout",
     "output_type": "stream",
     "text": [
      "Name:\t\t\tcharizard\n",
      "Ability:\t\tblaze\n",
      "Base experience:\t 267\n",
      "Attack:\t\t\t 84\n",
      "Defense:\t\t 78\n",
      "Hp\t\t\t+78\n",
      "\n",
      "\n"
     ]
    },
    {
     "data": {
      "image/png": "[encoded data removed]",
      "text/plain": [
       "<PIL.PngImagePlugin.PngImageFile image mode=P size=96x96>"
      ]
     },
     "metadata": {},
     "output_type": "display_data"
    },
    {
     "name": "stdout",
     "output_type": "stream",
     "text": [
      "Name:\t\t\tbulbasaur\n",
      "Ability:\t\tovergrow\n",
      "Base experience:\t 64\n",
      "Attack:\t\t\t 49\n",
      "Defense:\t\t 49\n",
      "Hp\t\t\t+45\n",
      "\n",
      "\n"
     ]
    },
    {
     "data": {
      "image/png": "[encoded data removed]",
      "text/plain": [
       "<PIL.PngImagePlugin.PngImageFile image mode=P size=96x96>"
      ]
     },
     "metadata": {},
     "output_type": "display_data"
    },
    {
     "name": "stdout",
     "output_type": "stream",
     "text": [
      "Name:\t\t\tsquirtle\n",
      "Ability:\t\ttorrent\n",
      "Base experience:\t 63\n",
      "Attack:\t\t\t 48\n",
      "Defense:\t\t 65\n",
      "Hp\t\t\t+44\n",
      "\n",
      "\n"
     ]
    },
    {
     "data": {
      "image/png": "[encoded data removed]",
      "text/plain": [
       "<PIL.PngImagePlugin.PngImageFile image mode=P size=96x96>"
      ]
     },
     "metadata": {},
     "output_type": "display_data"
    },
    {
     "name": "stdout",
     "output_type": "stream",
     "text": [
      "Name:\t\t\tgloom\n",
      "Ability:\t\tchlorophyll\n",
      "Base experience:\t 138\n",
      "Attack:\t\t\t 65\n",
      "Defense:\t\t 70\n",
      "Hp\t\t\t+60\n",
      "\n",
      "\n",
      "Your lucky pokemon is !!\n",
      "dict[0]\n"
     ]
    }
   ],
   "source": [
    "import requests as r\n",
    "from PIL import Image \n",
    "from io import BytesIO\n",
    "\n",
    "\n",
    "def my_favourite_pokemon(pokemon):\n",
    "    \n",
    "    res = r.get(f'https://pokeapi.co/api/v2/pokemon/{pokemon}')\n",
    "    \n",
    "    if res.ok:\n",
    "        data = res.json()\n",
    "        try:\n",
    "            name = data['name']\n",
    "            ability = data[\"abilities\"][0][\"ability\"][\"name\"]\n",
    "            base_experience = data['base_experience']\n",
    "            sprite_url = data[\"sprites\"][\"front_shiny\"]\n",
    "            response = r.get(sprite_url)\n",
    "            img = Image.open(BytesIO(response.content))\n",
    "            magnify_factor = 2\n",
    "            display(img)\n",
    "\n",
    "            # width, height = img.size\n",
    "            # new_size = (width * magnify_factor, height * magnify_factor)\n",
    "            # magnified_img = img.resize(new_size)\n",
    "            # magnified_img.show()\n",
    "\n",
    "\n",
    "            stats = data['stats']\n",
    "            for stat in stats:\n",
    "                if stat['stat']['name'] == 'attack':\n",
    "                    attack = stat['base_stat']\n",
    "                elif stat[\"stat\"][\"name\"] == \"defense\":\n",
    "                    defense = stat[\"base_stat\"]\n",
    "                elif stat[\"stat\"][\"name\"] == \"hp\":\n",
    "                    hp = stat[\"base_stat\"]\n",
    "            dict = {'Name':name, 'Ability':ability, 'Base experience':base_experience, 'Attack':attack, 'Defense':defense, 'Hp':hp}\n",
    "\n",
    "            print(f\"Name:\\t\\t\\t{name}\")\n",
    "            print(f\"Ability:\\t\\t{ability}\")\n",
    "            print(f\"Base experience:\\t {base_experience}\")\n",
    "            print(f\"Attack:\\t\\t\\t {attack}\")\n",
    "            print(f\"Defense:\\t\\t {defense}\")\n",
    "            print(f\"Hp\\t\\t\\t+{hp}\")\n",
    "            print()\n",
    "            print()\n",
    "        except (KeyError, IndexError):\n",
    "            print(f\"Pokemon with name '{pokemon}' not found.\\n\")\n",
    "            \n",
    "            one = one.append(dict)\n",
    "\n",
    "            \n",
    "\n",
    "\n",
    "pokemons = ['pikachu','ivysaur','charizard','bulbasaur','squirtle']\n",
    "\n",
    "interaction = input('Enter your lucky number to see your lucky pokemon at the end of list:')\n",
    "\n",
    "if interaction.isdigit():\n",
    "    if int(interaction) < 1000:\n",
    "        pokemons.append(interaction)\n",
    "        \n",
    "    else:\n",
    "        print(\"Out of bounce! Please enter digit below 1000!!\")\n",
    "else: \n",
    "    print('Better luck next time :). Checkout my pokemons!!')\n",
    "for pokemon in pokemons:\n",
    "    my_favourite_pokemon(pokemon)\n",
    "print(f\"Here is your lucky pokemon!!\")"
   ]
  },
  {
   "cell_type": "markdown",
   "id": "675d53fd-4bc1-48ca-82bf-e047a87c22ea",
   "metadata": {},
   "source": [
    "#### "
   ]
  }
 ],
 "metadata": {
  "kernelspec": {
   "display_name": "Python 3 (ipykernel)",
   "language": "python",
   "name": "python3"
  },
  "language_info": {
   "codemirror_mode": {
    "name": "ipython",
    "version": 3
   },
   "file_extension": ".py",
   "mimetype": "text/x-python",
   "name": "python",
   "nbconvert_exporter": "python",
   "pygments_lexer": "ipython3",
   "version": "3.9.13"
  }
 },
 "nbformat": 4,
 "nbformat_minor": 5
}
